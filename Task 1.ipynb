{
 "cells": [
  {
   "cell_type": "markdown",
   "metadata": {},
   "source": [
    "# Task 1 : Getting to Philosophy"
   ]
  },
  {
   "cell_type": "code",
   "execution_count": 1,
   "metadata": {},
   "outputs": [],
   "source": [
    "import requests\n",
    "from bs4 import BeautifulSoup as bs\n",
    "import time"
   ]
  },
  {
   "cell_type": "code",
   "execution_count": 2,
   "metadata": {},
   "outputs": [],
   "source": [
    "#Here I store the links that have been accessed by the method\n",
    "links_clicked = []\n",
    "#It is the text to be added (concatinated) to the first link selected from the main body\n",
    "wiki_text = \"https://en.wikipedia.org\"\n",
    "#The string of the Philosophy page\n",
    "philosophy_url = \"https://en.wikipedia.org/wiki/Philosophy\"\n",
    "\n",
    "#The Method had (max_iter) as a parameter in order to give the user more flexbility to \n",
    "#determine the maximum number of links to be accessed to avoid infinite loops\n",
    "def reach_philosophy(url, max_iter):\n",
    "    global links_clicked\n",
    "    links_clicked.append(url)\n",
    "#A condition to check if the Philosophy page is reached\n",
    "    if url == philosophy_url:\n",
    "        print \"Philosophy Page Reached\"\n",
    "        print links_clicked\n",
    "        links_clicked = []\n",
    "#A condition to check if maximam iterations reached        \n",
    "    elif max_iter == 1:\n",
    "        print \"Maximam Iterations Reached\"\n",
    "        print links_clicked\n",
    "        links_clicked = []\n",
    "        \n",
    "    else:\n",
    "        global web_url\n",
    "        try:\n",
    "            #Access the link given\n",
    "            web_url = requests.get(url).text\n",
    "        #An except statement to avoid error if there is a failed connection \n",
    "        #due to multiple requests made on Wikipedia    \n",
    "        except requests.exceptions.ConnectionError:\n",
    "            print \"Connection Failed\"\n",
    "        except requests.exceptions.HTTPError as err:\n",
    "            print err\n",
    "        #Using BeautifulSoup to get the Html source code\n",
    "        web_soup = bs(web_url, \"lxml\")\n",
    "        #Selecting the links found in the paragraphs of the articles\n",
    "        links = web_soup.select(\"body p > a\")\n",
    "        #A condition to check if there are any links in the current article\n",
    "        if len(links) == 0:\n",
    "            print \"No Links Found\"\n",
    "            print links_clicked\n",
    "            links_clicked = []\n",
    "        else:\n",
    "            #Check if the first link is a Wikipedia link\n",
    "            use_link = links[0]\n",
    "            for link in links:\n",
    "                if (\"/wiki/\" in link):\n",
    "                    use_link = link\n",
    "                    break\n",
    "                else:\n",
    "                    continue\n",
    "            #Selecting the link that is contained in the \"href\"\n",
    "            new_link = use_link.get(\"href\")\n",
    "            #Concatination of the strings of the main domain of Wikipedia \n",
    "            #with the first link found in the article\n",
    "            new_link_conc = wiki_text + new_link\n",
    "            time.sleep(0.5)\n",
    "            reach_philosophy(new_link_conc, max_iter-1)"
   ]
  },
  {
   "cell_type": "code",
   "execution_count": 3,
   "metadata": {},
   "outputs": [
    {
     "name": "stdout",
     "output_type": "stream",
     "text": [
      "Maximam Iterations Reached\n",
      "['https://en.wikipedia.org/wiki/Special:Random', 'https://en.wikipedia.org/wiki/Estrogen_(medication)', 'https://en.wikipedia.org/wiki/Medication', 'https://en.wikipedia.org/wiki/Drug', 'https://en.wikipedia.org/wiki/Food', 'https://en.wikipedia.org/wiki/Plant', 'https://en.wikipedia.org/wiki/Multicellular_organism', 'https://en.wikipedia.org/wiki/Organism', 'https://en.wikipedia.org/wiki/Biology', 'https://en.wikipedia.org/wiki/Natural_science', 'https://en.wikipedia.org/wiki/Branches_of_science', 'https://en.wikipedia.org/wiki/Science', 'https://en.wikipedia.org/wiki/Latin', 'https://en.wikipedia.org/wiki/Classical_language', 'https://en.wikipedia.org/wiki/Language', 'https://en.wikipedia.org/wiki/Linguistic_system', 'https://en.wikipedia.org/wiki/Ferdinand_de_Saussure', 'https://en.wikipedia.org/wiki/Switzerland', 'https://en.wikipedia.org/wiki/Europe', 'https://en.wikipedia.org/wiki/Continent']\n"
     ]
    }
   ],
   "source": [
    "reach_philosophy(\"https://en.wikipedia.org/wiki/Special:Random\", 20)"
   ]
  }
 ],
 "metadata": {
  "kernelspec": {
   "display_name": "Python 2",
   "language": "python",
   "name": "python2"
  },
  "language_info": {
   "codemirror_mode": {
    "name": "ipython",
    "version": 2
   },
   "file_extension": ".py",
   "mimetype": "text/x-python",
   "name": "python",
   "nbconvert_exporter": "python",
   "pygments_lexer": "ipython2",
   "version": "2.7.15"
  }
 },
 "nbformat": 4,
 "nbformat_minor": 2
}
